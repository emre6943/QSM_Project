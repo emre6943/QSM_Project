{
 "cells": [
  {
   "cell_type": "code",
   "execution_count": 2,
   "metadata": {},
   "outputs": [],
   "source": [
    "#Importing needed libs\n",
    "from qutip import *\n",
    "import numpy as np\n",
    "import matplotlib.pyplot as plt\n",
    "from ipywidgets import interact"
   ]
  },
  {
   "cell_type": "markdown",
   "metadata": {},
   "source": [
    "# Bell State\n"
   ]
  },
  {
   "cell_type": "code",
   "execution_count": 3,
   "metadata": {},
   "outputs": [
    {
     "data": {
      "text/latex": [
       "Quantum object: dims = [[2, 2], [1, 1]], shape = (4, 1), type = ket\\begin{equation*}\\left(\\begin{array}{*{11}c}0.707\\\\0.0\\\\0.0\\\\0.707\\\\\\end{array}\\right)\\end{equation*}"
      ],
      "text/plain": [
       "Quantum object: dims = [[2, 2], [1, 1]], shape = (4, 1), type = ket\n",
       "Qobj data =\n",
       "[[0.70710678]\n",
       " [0.        ]\n",
       " [0.        ]\n",
       " [0.70710678]]"
      ]
     },
     "execution_count": 3,
     "metadata": {},
     "output_type": "execute_result"
    }
   ],
   "source": [
    "entangled_00 = bell_state(state='00')\n",
    "down = fock(2,0)\n",
    "up = fock(2,1)\n",
    "state_00 = tensor(down, down)\n",
    "state_01 = tensor(down, up)\n",
    "state_10 = tensor(up, down)\n",
    "state_11 = tensor(up, up)\n",
    "\n",
    "\n",
    "entangled_00"
   ]
  },
  {
   "cell_type": "markdown",
   "metadata": {},
   "source": [
    "#For Measuement\n",
    "\n",
    "Tr(|0><0| * rhoAB.ptrace(0))\n",
    "\n",
    "-> measures the probability of finding the first particle (rhoAB.ptrace(0)) in |0> state\n",
    "\n",
    "Tr(|00><00| * rhoAB)\n",
    "\n",
    "-> measures the probability of finding both particle in |0> state\n"
   ]
  },
  {
   "cell_type": "code",
   "execution_count": 4,
   "metadata": {},
   "outputs": [
    {
     "name": "stdout",
     "output_type": "stream",
     "text": [
      "\n",
      "------------  For Bell State 00 ----------------\n",
      "First particle being down is 50.000000000000014%\n",
      "First particle being up is 50.000000000000014%\n",
      "Second particle being down is 50.000000000000014%\n",
      "Second particle being up is 50.000000000000014%\n",
      "--------------------------------------------\n",
      "Particle being down down is 50.000000000000014%\n",
      "Particle being down up is 0.0%\n",
      "Particle being up down is 0.0%\n",
      "Particle being up up is 50.000000000000014%\n",
      "\n",
      "\n",
      "------------  For Bell State 01 ----------------\n",
      "First particle being down is 50.000000000000014%\n",
      "First particle being up is 50.000000000000014%\n",
      "Second particle being down is 50.000000000000014%\n",
      "Second particle being up is 50.000000000000014%\n",
      "--------------------------------------------\n",
      "Particle being down down is 50.000000000000014%\n",
      "Particle being down up is 0.0%\n",
      "Particle being up down is 0.0%\n",
      "Particle being up up is 50.000000000000014%\n",
      "\n",
      "\n",
      "------------  For Bell State 10 ----------------\n",
      "First particle being down is 50.000000000000014%\n",
      "First particle being up is 50.000000000000014%\n",
      "Second particle being down is 50.000000000000014%\n",
      "Second particle being up is 50.000000000000014%\n",
      "--------------------------------------------\n",
      "Particle being down down is 0.0%\n",
      "Particle being down up is 50.000000000000014%\n",
      "Particle being up down is 50.000000000000014%\n",
      "Particle being up up is 0.0%\n",
      "\n",
      "\n",
      "------------  For Bell State 11 ----------------\n",
      "First particle being down is 50.000000000000014%\n",
      "First particle being up is 50.000000000000014%\n",
      "Second particle being down is 50.000000000000014%\n",
      "Second particle being up is 50.000000000000014%\n",
      "--------------------------------------------\n",
      "Particle being down down is 0.0%\n",
      "Particle being down up is 50.000000000000014%\n",
      "Particle being up down is 50.000000000000014%\n",
      "Particle being up up is 0.0%\n",
      "\n"
     ]
    }
   ],
   "source": [
    "#measuring\n",
    "\n",
    "def get_probability(entanglement, answer, particle):\n",
    "    entanglement = entanglement.unit()\n",
    "    density_ab = entanglement * entanglement.dag()\n",
    "    A = answer * answer.dag()\n",
    "    B = A*density_ab.ptrace(particle)\n",
    "    return B.tr()\n",
    "\n",
    "def get_probability_both(entanglement, answer,answer2):\n",
    "    entanglement = entanglement.unit()\n",
    "    density_ab = entanglement * entanglement.dag()\n",
    "    A = answer * answer.dag() \n",
    "    B = answer2*answer2.dag()\n",
    "    A = tensor(A,B)\n",
    "    C = A*density_ab\n",
    "    return C.tr()\n",
    "\n",
    "def print_all_single(entaglement):\n",
    "    print(\"First particle being down is \" + str(float(100 * get_probability(entaglement, down, 0))) + \"%\")\n",
    "    print(\"First particle being up is \" + str(float(100 * get_probability(entaglement, up, 0))) + \"%\")\n",
    "    print(\"Second particle being down is \" + str(float(100 * get_probability(entaglement, down, 1))) + \"%\")\n",
    "    print(\"Second particle being up is \" + str(float(100 * get_probability(entaglement, up, 1))) + \"%\")\n",
    "    \n",
    "def print_all_combined(entaglement):\n",
    "    print(\"Particle being down down is \" + str(float(100 * get_probability_both(entaglement, down, down))) + \"%\")\n",
    "    print(\"Particle being down up is \" + str(float(100 * get_probability_both(entaglement, down, up))) + \"%\")\n",
    "    print(\"Particle being up down is \" + str(float(100 * get_probability_both(entaglement, up, down))) + \"%\")\n",
    "    print(\"Particle being up up is \" + str(float(100 * get_probability_both(entaglement, up, up))) + \"%\")\n",
    "\n",
    "def print_all_detail(entaglement, title):\n",
    "    print()\n",
    "    print(\"------------  \" + title + \" ----------------\")\n",
    "    print_all_single(entaglement)\n",
    "    print(\"--------------------------------------------\")\n",
    "    print_all_combined(entaglement)\n",
    "    print()\n",
    "    \n",
    "print_all_detail(entangled_00, \"For Bell State 00\")\n",
    "\n",
    "entangled_01 = bell_state(state='01')\n",
    "print_all_detail(entangled_01, \"For Bell State 01\")\n",
    "\n",
    "entangled_10 = bell_state(state='10')\n",
    "print_all_detail(entangled_10, \"For Bell State 10\")\n",
    "\n",
    "entangled_11 = bell_state(state='11')\n",
    "print_all_detail(entangled_11, \"For Bell State 11\")"
   ]
  },
  {
   "cell_type": "markdown",
   "metadata": {},
   "source": [
    "# Partially entangled states\n"
   ]
  },
  {
   "cell_type": "markdown",
   "metadata": {},
   "source": [
    "#For Creating mixed entangled states\n",
    "\n",
    "entangled = x|00><00| + b|01><10| ...\n"
   ]
  },
  {
   "cell_type": "code",
   "execution_count": 5,
   "metadata": {},
   "outputs": [
    {
     "data": {
      "text/latex": [
       "Quantum object: dims = [[2, 2], [1, 1]], shape = (4, 1), type = ket\\begin{equation*}\\left(\\begin{array}{*{11}c}0.866\\\\0.0\\\\0.0\\\\0.500\\\\\\end{array}\\right)\\end{equation*}"
      ],
      "text/plain": [
       "Quantum object: dims = [[2, 2], [1, 1]], shape = (4, 1), type = ket\n",
       "Qobj data =\n",
       "[[0.8660254]\n",
       " [0.       ]\n",
       " [0.       ]\n",
       " [0.5      ]]"
      ]
     },
     "execution_count": 5,
     "metadata": {},
     "output_type": "execute_result"
    }
   ],
   "source": [
    "entangled_mixed_clean1 = (np.sqrt(3)/2 * state_00 +  0.5 * state_11).unit() \n",
    "entangled_mixed_clean1\n"
   ]
  },
  {
   "cell_type": "code",
   "execution_count": 6,
   "metadata": {
    "scrolled": true
   },
   "outputs": [
    {
     "name": "stdout",
     "output_type": "stream",
     "text": [
      "\n",
      "------------  For a partially entangled state 1 ----------------\n",
      "First particle being down is 74.99999999999999%\n",
      "First particle being up is 25.0%\n",
      "Second particle being down is 74.99999999999999%\n",
      "Second particle being up is 25.0%\n",
      "--------------------------------------------\n",
      "Particle being down down is 74.99999999999999%\n",
      "Particle being down up is 0.0%\n",
      "Particle being up down is 0.0%\n",
      "Particle being up up is 25.0%\n",
      "\n",
      "\n",
      "------------  For a partially entangled state 2 ----------------\n",
      "First particle being down is 74.99999999999999%\n",
      "First particle being up is 25.0%\n",
      "Second particle being down is 25.0%\n",
      "Second particle being up is 74.99999999999999%\n",
      "--------------------------------------------\n",
      "Particle being down down is 0.0%\n",
      "Particle being down up is 74.99999999999999%\n",
      "Particle being up down is 25.0%\n",
      "Particle being up up is 0.0%\n",
      "\n",
      "\n",
      "------------  For a partially entangled state 3 ----------------\n",
      "First particle being down is 4.911591355599215%\n",
      "First particle being up is 95.08840864440081%\n",
      "Second particle being down is 95.08840864440081%\n",
      "Second particle being up is 4.911591355599215%\n",
      "--------------------------------------------\n",
      "Particle being down down is 0.0%\n",
      "Particle being down up is 4.911591355599215%\n",
      "Particle being up down is 95.08840864440081%\n",
      "Particle being up up is 0.0%\n",
      "\n",
      "\n",
      "------------  For a partially entangled state 4 ----------------\n",
      "First particle being down is 80.0%\n",
      "First particle being up is 20.0%\n",
      "Second particle being down is 80.0%\n",
      "Second particle being up is 20.0%\n",
      "--------------------------------------------\n",
      "Particle being down down is 80.0%\n",
      "Particle being down up is 0.0%\n",
      "Particle being up down is 0.0%\n",
      "Particle being up up is 20.0%\n",
      "\n"
     ]
    }
   ],
   "source": [
    "print_all_detail(entangled_mixed_clean1, \"For a partially entangled state 1\")\n",
    "\n",
    "entangled_mixed_clean2 = (np.sqrt(3)/2 * state_01 -  0.5 * state_10).unit()\n",
    "print_all_detail(entangled_mixed_clean2, \"For a partially entangled state 2\")\n",
    "\n",
    "entangled_mixed_1 = (0.5 * state_01 -  2.2 * state_10).unit()\n",
    "print_all_detail(entangled_mixed_1, \"For a partially entangled state 3\")\n",
    "\n",
    "entangled_mixed_2 = (1.2 * state_00 -  0.6 * state_11).unit()\n",
    "print_all_detail(entangled_mixed_2, \"For a partially entangled state 4\")\n"
   ]
  },
  {
   "cell_type": "markdown",
   "metadata": {},
   "source": [
    "# Entangled states with random errors"
   ]
  },
  {
   "cell_type": "code",
   "execution_count": 138,
   "metadata": {},
   "outputs": [
    {
     "data": {
      "text/latex": [
       "Quantum object: dims = [[2, 2], [1, 1]], shape = (4, 1), type = ket\\begin{equation*}\\left(\\begin{array}{*{11}c}0.700\\\\0.100\\\\0.100\\\\0.700\\\\\\end{array}\\right)\\end{equation*}"
      ],
      "text/plain": [
       "Quantum object: dims = [[2, 2], [1, 1]], shape = (4, 1), type = ket\n",
       "Qobj data =\n",
       "[[0.7]\n",
       " [0.1]\n",
       " [0.1]\n",
       " [0.7]]"
      ]
     },
     "execution_count": 138,
     "metadata": {},
     "output_type": "execute_result"
    }
   ],
   "source": [
    "entangled_imperfect_1 = (0.7 * state_00 + 0.1 * state_01 + 0.1 * state_10 +   0.7 * state_11).unit() \n",
    "entangled_imperfect_1"
   ]
  },
  {
   "cell_type": "code",
   "execution_count": 1,
   "metadata": {},
   "outputs": [
    {
     "ename": "NameError",
     "evalue": "name 'print_all_detail' is not defined",
     "output_type": "error",
     "traceback": [
      "\u001b[1;31m---------------------------------------------------------------------------\u001b[0m",
      "\u001b[1;31mNameError\u001b[0m                                 Traceback (most recent call last)",
      "\u001b[1;32m<ipython-input-1-c890e7233164>\u001b[0m in \u001b[0;36m<module>\u001b[1;34m\u001b[0m\n\u001b[1;32m----> 1\u001b[1;33m \u001b[0mprint_all_detail\u001b[0m\u001b[1;33m(\u001b[0m\u001b[0mentangled_imperfect_1\u001b[0m\u001b[1;33m,\u001b[0m \u001b[1;34m\"For a entangled state with errors 1\"\u001b[0m\u001b[1;33m)\u001b[0m\u001b[1;33m\u001b[0m\u001b[1;33m\u001b[0m\u001b[0m\n\u001b[0m\u001b[0;32m      2\u001b[0m \u001b[1;33m\u001b[0m\u001b[0m\n\u001b[0;32m      3\u001b[0m \u001b[0mentangled_imperfect_2\u001b[0m \u001b[1;33m=\u001b[0m \u001b[1;33m(\u001b[0m\u001b[1;36m0.1\u001b[0m \u001b[1;33m*\u001b[0m \u001b[0mstate_00\u001b[0m \u001b[1;33m+\u001b[0m \u001b[1;36m0.8\u001b[0m \u001b[1;33m*\u001b[0m \u001b[0mstate_01\u001b[0m \u001b[1;33m+\u001b[0m \u001b[1;36m0.8\u001b[0m \u001b[1;33m*\u001b[0m \u001b[0mstate_10\u001b[0m \u001b[1;33m+\u001b[0m   \u001b[1;36m0.1\u001b[0m \u001b[1;33m*\u001b[0m \u001b[0mstate_11\u001b[0m\u001b[1;33m)\u001b[0m\u001b[1;33m.\u001b[0m\u001b[0munit\u001b[0m\u001b[1;33m(\u001b[0m\u001b[1;33m)\u001b[0m\u001b[1;33m\u001b[0m\u001b[1;33m\u001b[0m\u001b[0m\n\u001b[0;32m      4\u001b[0m \u001b[0mprint_all_detail\u001b[0m\u001b[1;33m(\u001b[0m\u001b[0mentangled_imperfect_2\u001b[0m\u001b[1;33m,\u001b[0m \u001b[1;34m\"For a entangled state with errors 2\"\u001b[0m\u001b[1;33m)\u001b[0m\u001b[1;33m\u001b[0m\u001b[1;33m\u001b[0m\u001b[0m\n",
      "\u001b[1;31mNameError\u001b[0m: name 'print_all_detail' is not defined"
     ]
    }
   ],
   "source": [
    "print_all_detail(entangled_imperfect_1, \"For a entangled state with errors 1\")\n",
    "\n",
    "entangled_imperfect_2 = (0.1 * state_00 + 0.8 * state_01 + 0.8 * state_10 +   0.1 * state_11).unit()\n",
    "print_all_detail(entangled_imperfect_2, \"For a entangled state with errors 2\")"
   ]
  },
  {
   "cell_type": "markdown",
   "metadata": {},
   "source": [
    "# Entangled states with time dependent coefficients"
   ]
  },
  {
   "cell_type": "code",
   "execution_count": null,
   "metadata": {},
   "outputs": [],
   "source": []
  },
  {
   "cell_type": "markdown",
   "metadata": {},
   "source": [
    "# Hamiltonian-based time-dependent states"
   ]
  },
  {
   "cell_type": "code",
   "execution_count": null,
   "metadata": {},
   "outputs": [],
   "source": []
  },
  {
   "cell_type": "code",
   "execution_count": null,
   "metadata": {},
   "outputs": [],
   "source": []
  }
 ],
 "metadata": {
  "kernelspec": {
   "display_name": "Python 3",
   "language": "python",
   "name": "python3"
  },
  "language_info": {
   "codemirror_mode": {
    "name": "ipython",
    "version": 3
   },
   "file_extension": ".py",
   "mimetype": "text/x-python",
   "name": "python",
   "nbconvert_exporter": "python",
   "pygments_lexer": "ipython3",
   "version": "3.7.4"
  },
  "latex_envs": {
   "LaTeX_envs_menu_present": true,
   "autoclose": false,
   "autocomplete": true,
   "bibliofile": "biblio.bib",
   "cite_by": "apalike",
   "current_citInitial": 1,
   "eqLabelWithNumbers": true,
   "eqNumInitial": 1,
   "hotkeys": {
    "equation": "Ctrl-E",
    "itemize": "Ctrl-I"
   },
   "labels_anchors": false,
   "latex_user_defs": false,
   "report_style_numbering": false,
   "user_envs_cfg": false
  }
 },
 "nbformat": 4,
 "nbformat_minor": 2
}
