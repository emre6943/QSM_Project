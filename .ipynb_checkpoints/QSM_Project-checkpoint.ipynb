{
 "cells": [
  {
   "cell_type": "code",
   "execution_count": 134,
   "metadata": {},
   "outputs": [],
   "source": [
    "#Importing needed libs\n",
    "from qutip import *\n",
    "import numpy as np\n",
    "import matplotlib.pyplot as plt\n",
    "from ipywidgets import interact"
   ]
  },
  {
   "cell_type": "markdown",
   "metadata": {},
   "source": [
    "# Bell State\n"
   ]
  },
  {
   "cell_type": "code",
   "execution_count": 135,
   "metadata": {},
   "outputs": [
    {
     "data": {
      "text/latex": [
       "Quantum object: dims = [[2, 2], [1, 1]], shape = (4, 1), type = ket\\begin{equation*}\\left(\\begin{array}{*{11}c}0.707\\\\0.0\\\\0.0\\\\0.707\\\\\\end{array}\\right)\\end{equation*}"
      ],
      "text/plain": [
       "Quantum object: dims = [[2, 2], [1, 1]], shape = (4, 1), type = ket\n",
       "Qobj data =\n",
       "[[0.70710678]\n",
       " [0.        ]\n",
       " [0.        ]\n",
       " [0.70710678]]"
      ]
     },
     "execution_count": 135,
     "metadata": {},
     "output_type": "execute_result"
    }
   ],
   "source": [
    "entangled_00 = bell_state(state='00')\n",
    "down = fock(2,0)\n",
    "up = fock(2,1)\n",
    "state_00 = tensor(down, down)\n",
    "state_01 = tensor(down, up)\n",
    "state_10 = tensor(up, down)\n",
    "state_11 = tensor(up, up)\n",
    "\n",
    "\n",
    "entangled_00"
   ]
  },
  {
   "cell_type": "markdown",
   "metadata": {},
   "source": [
    "#For Measuement\n",
    "\n",
    "Tr(|0><0| * rhoAB.ptrace(0))\n",
    "\n",
    "-> measures the probability of finding the first particle (rhoAB.ptrace(0)) in |0> state\n",
    "\n",
    "Tr(|00><00| * rhoAB)\n",
    "\n",
    "-> measures the probability of finding both particle in |0> state\n"
   ]
  },
  {
   "cell_type": "code",
   "execution_count": 136,
   "metadata": {},
   "outputs": [
    {
     "data": {
      "image/png": "[encoded data removed]",
      "text/plain": [
       "<Figure size 432x288 with 1 Axes>"
      ]
     },
     "metadata": {
      "needs_background": "light"
     },
     "output_type": "display_data"
    },
    {
     "data": {
      "image/png": "[encoded data removed]",
      "text/plain": [
       "<Figure size 432x288 with 1 Axes>"
      ]
     },
     "metadata": {
      "needs_background": "light"
     },
     "output_type": "display_data"
    },
    {
     "data": {
      "image/png": "[encoded data removed]",
      "text/plain": [
       "<Figure size 432x288 with 1 Axes>"
      ]
     },
     "metadata": {
      "needs_background": "light"
     },
     "output_type": "display_data"
    },
    {
     "data": {
      "image/png": "[encoded data removed]",
      "text/plain": [
       "<Figure size 432x288 with 1 Axes>"
      ]
     },
     "metadata": {
      "needs_background": "light"
     },
     "output_type": "display_data"
    }
   ],
   "source": [
    "#measuring\n",
    "\n",
    "def get_probability(entanglement, answer, particle):\n",
    "    entanglement = entanglement.unit()\n",
    "    density_ab = entanglement * entanglement.dag()\n",
    "    A = answer * answer.dag()\n",
    "    B = A*density_ab.ptrace(particle)\n",
    "    return B.tr()\n",
    "\n",
    "def get_probability_both(entanglement, answer,answer2):\n",
    "    entanglement = entanglement.unit()\n",
    "    density_ab = entanglement * entanglement.dag()\n",
    "    A = answer * answer.dag() \n",
    "    B = answer2*answer2.dag()\n",
    "    A = tensor(A,B)\n",
    "    C = A*density_ab\n",
    "    return C.tr()\n",
    "\n",
    "def print_all_single(entaglement):\n",
    "    print(\"First particle being down is \" + str(float(100 * get_probability(entaglement, down, 0))) + \"%\")\n",
    "    print(\"First particle being up is \" + str(float(100 * get_probability(entaglement, up, 0))) + \"%\")\n",
    "    print(\"Second particle being down is \" + str(float(100 * get_probability(entaglement, down, 1))) + \"%\")\n",
    "    print(\"Second particle being up is \" + str(float(100 * get_probability(entaglement, up, 1))) + \"%\")\n",
    "    \n",
    "def print_all_combined(entaglement):\n",
    "    print(\"Particle being down down is \" + str(float(100 * get_probability_both(entaglement, down, down))) + \"%\")\n",
    "    print(\"Particle being down up is \" + str(float(100 * get_probability_both(entaglement, down, up))) + \"%\")\n",
    "    print(\"Particle being up down is \" + str(float(100 * get_probability_both(entaglement, up, down))) + \"%\")\n",
    "    print(\"Particle being up up is \" + str(float(100 * get_probability_both(entaglement, up, up))) + \"%\")\n",
    "\n",
    "def print_all_detail(entaglement, title):\n",
    "    print()\n",
    "    print(\"------------  \" + title + \" ----------------\")\n",
    "    print_all_single(entaglement)\n",
    "    print(\"--------------------------------------------\")\n",
    "    print_all_combined(entaglement)\n",
    "    print()\n",
    "    \n",
    "def show_on_graph(entaglement, title):\n",
    "    values = []\n",
    "    values.append(float(100 * get_probability_both(entaglement, down, down)))\n",
    "    values.append(float(100 * get_probability_both(entaglement, down, up)))\n",
    "    values.append(float(100 * get_probability_both(entaglement, up, down)))\n",
    "    values.append(float(100 * get_probability_both(entaglement, up, up)))\n",
    "    \n",
    "    objects = ('|00>', '|01>', '|10>', '|11>')\n",
    "    y_pos = np.arange(len(objects))\n",
    "    plt.bar(y_pos, values, align='center', alpha=0.5)\n",
    "    plt.xticks(y_pos, objects)\n",
    "    plt.ylabel('Probability %')\n",
    "    plt.title(title)\n",
    "\n",
    "    plt.show()\n",
    "    \n",
    "show_on_graph(entangled_00, \"For Bell State 00\")\n",
    "\n",
    "entangled_01 = bell_state(state='01')\n",
    "show_on_graph(entangled_01, \"For Bell State 01\")\n",
    "\n",
    "entangled_10 = bell_state(state='10')\n",
    "show_on_graph(entangled_10, \"For Bell State 10\")\n",
    "\n",
    "entangled_11 = bell_state(state='11')\n",
    "show_on_graph(entangled_11, \"For Bell State 11\")"
   ]
  },
  {
   "cell_type": "markdown",
   "metadata": {},
   "source": [
    "# Partially entangled states\n"
   ]
  },
  {
   "cell_type": "markdown",
   "metadata": {},
   "source": [
    "#For Creating mixed entangled states\n",
    "\n",
    "entangled = x|00><00| + b|01><10| ...\n"
   ]
  },
  {
   "cell_type": "code",
   "execution_count": 137,
   "metadata": {},
   "outputs": [
    {
     "data": {
      "text/latex": [
       "Quantum object: dims = [[2, 2], [1, 1]], shape = (4, 1), type = ket\\begin{equation*}\\left(\\begin{array}{*{11}c}0.866\\\\0.0\\\\0.0\\\\0.500\\\\\\end{array}\\right)\\end{equation*}"
      ],
      "text/plain": [
       "Quantum object: dims = [[2, 2], [1, 1]], shape = (4, 1), type = ket\n",
       "Qobj data =\n",
       "[[0.8660254]\n",
       " [0.       ]\n",
       " [0.       ]\n",
       " [0.5      ]]"
      ]
     },
     "execution_count": 137,
     "metadata": {},
     "output_type": "execute_result"
    }
   ],
   "source": [
    "entangled_mixed_clean1 = (np.sqrt(3)/2 * state_00 +  0.5 * state_11).unit() \n",
    "entangled_mixed_clean1\n"
   ]
  },
  {
   "cell_type": "code",
   "execution_count": 138,
   "metadata": {
    "scrolled": true
   },
   "outputs": [
    {
     "data": {
      "image/png": "[encoded data removed]",
      "text/plain": [
       "<Figure size 432x288 with 1 Axes>"
      ]
     },
     "metadata": {
      "needs_background": "light"
     },
     "output_type": "display_data"
    },
    {
     "data": {
      "image/png": "[encoded data removed]",
      "text/plain": [
       "<Figure size 432x288 with 1 Axes>"
      ]
     },
     "metadata": {
      "needs_background": "light"
     },
     "output_type": "display_data"
    },
    {
     "data": {
      "image/png": "[encoded data removed]",
      "text/plain": [
       "<Figure size 432x288 with 1 Axes>"
      ]
     },
     "metadata": {
      "needs_background": "light"
     },
     "output_type": "display_data"
    },
    {
     "data": {
      "image/png": "[encoded data removed]",
      "text/plain": [
       "<Figure size 432x288 with 1 Axes>"
      ]
     },
     "metadata": {
      "needs_background": "light"
     },
     "output_type": "display_data"
    }
   ],
   "source": [
    "show_on_graph(entangled_mixed_clean1, \"For a partially entangled state 1\")\n",
    "\n",
    "entangled_mixed_clean2 = (np.sqrt(3)/2 * state_01 -  0.5 * state_10).unit()\n",
    "show_on_graph(entangled_mixed_clean2, \"For a partially entangled state 2\")\n",
    "\n",
    "entangled_mixed_1 = (0.5 * state_01 -  2.2 * state_10).unit()\n",
    "show_on_graph(entangled_mixed_1, \"For a partially entangled state 3\")\n",
    "\n",
    "entangled_mixed_2 = (1.2 * state_00 -  0.6 * state_11).unit()\n",
    "show_on_graph(entangled_mixed_2, \"For a partially entangled state 4\")\n"
   ]
  },
  {
   "cell_type": "markdown",
   "metadata": {},
   "source": [
    "# Entangled states with random errors"
   ]
  },
  {
   "cell_type": "code",
   "execution_count": 139,
   "metadata": {},
   "outputs": [
    {
     "data": {
      "text/latex": [
       "Quantum object: dims = [[2, 2], [1, 1]], shape = (4, 1), type = ket\\begin{equation*}\\left(\\begin{array}{*{11}c}0.700\\\\0.100\\\\0.100\\\\0.700\\\\\\end{array}\\right)\\end{equation*}"
      ],
      "text/plain": [
       "Quantum object: dims = [[2, 2], [1, 1]], shape = (4, 1), type = ket\n",
       "Qobj data =\n",
       "[[0.7]\n",
       " [0.1]\n",
       " [0.1]\n",
       " [0.7]]"
      ]
     },
     "execution_count": 139,
     "metadata": {},
     "output_type": "execute_result"
    }
   ],
   "source": [
    "entangled_imperfect_1 = (0.7 * state_00 + 0.1 * state_01 + 0.1 * state_10 +   0.7 * state_11).unit() \n",
    "entangled_imperfect_1"
   ]
  },
  {
   "cell_type": "code",
   "execution_count": 140,
   "metadata": {},
   "outputs": [
    {
     "data": {
      "image/png": "[encoded data removed]",
      "text/plain": [
       "<Figure size 432x288 with 1 Axes>"
      ]
     },
     "metadata": {
      "needs_background": "light"
     },
     "output_type": "display_data"
    },
    {
     "data": {
      "image/png": "[encoded data removed]",
      "text/plain": [
       "<Figure size 432x288 with 1 Axes>"
      ]
     },
     "metadata": {
      "needs_background": "light"
     },
     "output_type": "display_data"
    }
   ],
   "source": [
    "show_on_graph(entangled_imperfect_1, \"For a entangled state with errors 1\")\n",
    "\n",
    "entangled_imperfect_2 = (0.1 * state_00 + 0.8 * state_01 + 0.8 * state_10 +   0.1 * state_11).unit()\n",
    "show_on_graph(entangled_imperfect_2, \"For a entangled state with errors 2\")"
   ]
  },
  {
   "cell_type": "markdown",
   "metadata": {},
   "source": [
    "# Entangled states with time dependent coefficients"
   ]
  },
  {
   "cell_type": "code",
   "execution_count": 198,
   "metadata": {},
   "outputs": [
    {
     "data": {
      "text/latex": [
       "Quantum object: dims = [[4], [4]], shape = (4, 4), type = oper, isherm = True\\begin{equation*}\\left(\\begin{array}{*{11}c}0.707 & 0.0 & 0.0 & 0.707j\\\\0.0 & 0.707 & 0.707j & 0.0\\\\0.0 & -0.707j & 0.707 & 0.0\\\\-0.707j & 0.0 & 0.0 & 0.707\\\\\\end{array}\\right)\\end{equation*}"
      ],
      "text/plain": [
       "Quantum object: dims = [[4], [4]], shape = (4, 4), type = oper, isherm = True\n",
       "Qobj data =\n",
       "[[0.70710678+0.j         0.        +0.j         0.        +0.j\n",
       "  0.        +0.70710678j]\n",
       " [0.        +0.j         0.70710678+0.j         0.        +0.70710678j\n",
       "  0.        +0.j        ]\n",
       " [0.        +0.j         0.        -0.70710678j 0.70710678+0.j\n",
       "  0.        +0.j        ]\n",
       " [0.        -0.70710678j 0.        +0.j         0.        +0.j\n",
       "  0.70710678+0.j        ]]"
      ]
     },
     "execution_count": 198,
     "metadata": {},
     "output_type": "execute_result"
    }
   ],
   "source": [
    "def create_matrix(angle):\n",
    "#     return Qobj([[np.cos(angle), 0, 0, -1j * np.sin(angle)], [0, np.cos(angle), -1j * np.sin(angle), 0], [0, -1j * np.sin(angle), np.cos(angle), 0], [-1j * np.sin(angle), 0, 0, np.cos(angle)]])\n",
    "    return Qobj([[np.cos(angle), 0, 0, 1j * np.sin(angle)], [0, np.cos(angle), 1j * np.sin(angle), 0], [0, -1j * np.sin(angle), np.cos(angle), 0], [-1j * np.sin(angle), 0, 0, np.cos(angle)]])\n",
    "\n",
    "create_matrix(np.pi/4)"
   ]
  },
  {
   "cell_type": "markdown",
   "metadata": {},
   "source": [
    "# Hamiltonian-based time-dependent states"
   ]
  },
  {
   "cell_type": "code",
   "execution_count": 199,
   "metadata": {},
   "outputs": [
    {
     "name": "stdout",
     "output_type": "stream",
     "text": [
      "Quantum object: dims = [[4], [1]], shape = (4, 1), type = ket\n",
      "Qobj data =\n",
      "[[0.]\n",
      " [1.]\n",
      " [0.]\n",
      " [0.]]\n",
      "Quantum object: dims = [[4], [4]], shape = (4, 4), type = oper, isherm = True\n",
      "Qobj data =\n",
      "[[ 1.  0.  0.  1.]\n",
      " [ 0.  1.  1.  0.]\n",
      " [ 0.  1. -1.  0.]\n",
      " [ 1.  0.  0. -1.]]\n",
      "Quantum object: dims = [[4], [4]], shape = (4, 4), type = oper, isherm = True\n",
      "Qobj data =\n",
      "[[0. 0. 0. 0.]\n",
      " [0. 0. 0. 0.]\n",
      " [0. 0. 0. 0.]\n",
      " [0. 0. 0. 0.]]\n"
     ]
    },
    {
     "data": {
      "text/latex": [
       "Quantum object: dims = [[4], [4]], shape = (4, 4), type = oper, isherm = True\\begin{equation*}\\left(\\begin{array}{*{11}c}0.0 & 0.0 & 0.0 & 0.0\\\\0.0 & 1.0 & 0.0 & 0.0\\\\0.0 & 0.0 & 0.0 & 0.0\\\\0.0 & 0.0 & 0.0 & 0.0\\\\\\end{array}\\right)\\end{equation*}"
      ],
      "text/plain": [
       "Quantum object: dims = [[4], [4]], shape = (4, 4), type = oper, isherm = True\n",
       "Qobj data =\n",
       "[[0. 0. 0. 0.]\n",
       " [0. 1. 0. 0.]\n",
       " [0. 0. 0. 0.]\n",
       " [0. 0. 0. 0.]]"
      ]
     },
     "execution_count": 199,
     "metadata": {},
     "output_type": "execute_result"
    }
   ],
   "source": [
    "N = 2\n",
    "\n",
    "psi0 = Qobj([[0], [1], [0], [0]])\n",
    "print(psi0)\n",
    "\n",
    "w = 1 * 2 * np.pi \n",
    "# H = 0.5 * w * create_matrix(0)\n",
    "# H = Qobj([[1, 0, 1, 0], [0, 1, 0, 1], [0, 1, 0, -1], [1, 0, -1, 0]])\n",
    "H = Qobj([[1, 0, 0, 1], [0, 1, 1, 0], [0, 1, -1, 0], [1, 0, 0, -1]])\n",
    "print(H)\n",
    "\n",
    "gamma = 0.1 * w\n",
    "c_ops = Qobj([[0, 0, 0, 0], [0, 0, 0, 0], [0, 0, 0, 0], [0, 0, 0, 0]])\n",
    "t = np.linspace(0, 10, 201)\n",
    "print(c_ops)\n",
    "\n",
    "result_me = mesolve(H, psi0, t, c_ops)\n",
    "projection(4,1,1)"
   ]
  },
  {
   "cell_type": "code",
   "execution_count": 200,
   "metadata": {},
   "outputs": [
    {
     "data": {
      "image/png": "[encoded data removed]",
      "text/plain": [
       "<Figure size 432x288 with 1 Axes>"
      ]
     },
     "metadata": {
      "needs_background": "light"
     },
     "output_type": "display_data"
    }
   ],
   "source": [
    "plt.plot(t,np.real(expect(result_me.states, projection(4,3,0))), label=r'Re($\\rho_{21}$)');\n",
    "plt.plot(t,np.imag(expect(result_me.states, projection(4,3,0))), label=r'Im($\\rho_{21}$)');\n",
    "plt.ylabel(r\"$\\rho_{ij}$\")\n",
    "plt.xlabel(\"t (QuTiP 'seconds')\")\n",
    "plt.legend()\n",
    "plt.show()"
   ]
  },
  {
   "cell_type": "code",
   "execution_count": 206,
   "metadata": {},
   "outputs": [
    {
     "data": {
      "application/vnd.jupyter.widget-view+json": {
       "model_id": "e8e840a41dd54adbb78bce866c2b05f3",
       "version_major": 2,
       "version_minor": 0
      },
      "text/plain": [
       "interactive(children=(FloatSlider(value=0.0, description='angle', max=6.283185307179586), Output()), _dom_clas…"
      ]
     },
     "metadata": {},
     "output_type": "display_data"
    }
   ],
   "source": [
    "def update(angle=0):\n",
    "    \n",
    "    H_me = 0.5 * w * create_matrix(angle)\n",
    "    \n",
    "    result_me = mesolve(H_me, psi0, t, c_ops)\n",
    "    \n",
    "    plt.plot(t,np.real(expect(result_me.states, projection(4,1,1))), label=r'Re($\\rho_{21}$)');\n",
    "    plt.plot(t,np.imag(expect(result_me.states, projection(4,1,1))), label=r'Im($\\rho_{21}$)');\n",
    "    plt.ylabel(r\"$\\rho_{ij}$\")\n",
    "    plt.xlabel(\"t (QuTiP 'seconds')\")\n",
    "    plt.legend()\n",
    "    plt.show()\n",
    "    \n",
    "interact(update, angle=(0,2 * np.pi));"
   ]
  },
  {
   "cell_type": "code",
   "execution_count": 205,
   "metadata": {},
   "outputs": [
    {
     "data": {
      "image/png": "[encoded data removed]",
      "text/plain": [
       "<Figure size 432x432 with 1 Axes>"
      ]
     },
     "metadata": {
      "needs_background": "light"
     },
     "output_type": "display_data"
    }
   ],
   "source": [
    "import matplotlib.animation as animation\n",
    "plt.rcParams[\"animation.html\"] = \"jshtml\"\n",
    "plt.rcParams['animation.embed_limit'] = 100\n",
    "\n",
    "fig, ax = plt.subplots(1, 1, figsize=(6,6))\n",
    "def updatee(n):\n",
    "    ax.cla() # Clear axis. Without this, generating the animation takes a lot longer...\n",
    "    plot_wigner(result_me.states[n],fig=fig,ax=ax)\n",
    "\n",
    "anim = animation.FuncAnimation(fig, updatee, frames=len(result_me.states))"
   ]
  },
  {
   "cell_type": "code",
   "execution_count": null,
   "metadata": {},
   "outputs": [],
   "source": []
  },
  {
   "cell_type": "code",
   "execution_count": null,
   "metadata": {},
   "outputs": [],
   "source": []
  },
  {
   "cell_type": "code",
   "execution_count": null,
   "metadata": {},
   "outputs": [],
   "source": []
  }
 ],
 "metadata": {
  "kernelspec": {
   "display_name": "Python 3",
   "language": "python",
   "name": "python3"
  },
  "language_info": {
   "codemirror_mode": {
    "name": "ipython",
    "version": 3
   },
   "file_extension": ".py",
   "mimetype": "text/x-python",
   "name": "python",
   "nbconvert_exporter": "python",
   "pygments_lexer": "ipython3",
   "version": "3.7.4"
  },
  "latex_envs": {
   "LaTeX_envs_menu_present": true,
   "autoclose": false,
   "autocomplete": true,
   "bibliofile": "biblio.bib",
   "cite_by": "apalike",
   "current_citInitial": 1,
   "eqLabelWithNumbers": true,
   "eqNumInitial": 1,
   "hotkeys": {
    "equation": "Ctrl-E",
    "itemize": "Ctrl-I"
   },
   "labels_anchors": false,
   "latex_user_defs": false,
   "report_style_numbering": false,
   "user_envs_cfg": false
  }
 },
 "nbformat": 4,
 "nbformat_minor": 2
}
