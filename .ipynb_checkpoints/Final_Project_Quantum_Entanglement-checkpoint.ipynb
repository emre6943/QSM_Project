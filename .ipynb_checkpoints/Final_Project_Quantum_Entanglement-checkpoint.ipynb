{
 "cells": [
  {
   "cell_type": "code",
   "execution_count": 4,
   "metadata": {},
   "outputs": [],
   "source": [
    "#Importing needed libs\n",
    "from qutip import *\n",
    "import numpy as np\n",
    "import scipy as sc\n",
    "from scipy.constants import h\n",
    "import matplotlib.pyplot as plt\n",
    "from ipywidgets import interact\n",
    "from IPython.display import Image\n",
    "from IPython.core.display import HTML "
   ]
  },
  {
   "cell_type": "markdown",
   "metadata": {
    "hide_input": false
   },
   "source": [
    "# Final Project TN3155: Your title here\n",
    "\n",
    "## Introduction\n",
    "\n",
    "In this project we will research entangled states and how to create entangled states. Entangled states are states that can't be described independently. Entanglement is an important property for quantum computing as they are used in quantum teleportation and they are an important property for security."
   ]
  },
  {
   "cell_type": "code",
   "execution_count": 5,
   "metadata": {
    "scrolled": true
   },
   "outputs": [
    {
     "data": {
      "text/html": [
       "<img src=\"https://i.imgur.com/D8xbv5L.png\"/>"
      ],
      "text/plain": [
       "<IPython.core.display.Image object>"
      ]
     },
     "execution_count": 5,
     "metadata": {},
     "output_type": "execute_result"
    }
   ],
   "source": [
    "Image(url= \"https://i.imgur.com/D8xbv5L.png\") #From the lecture Quantum communication and computing, lecture notes 27 Nov"
   ]
  },
  {
   "cell_type": "markdown",
   "metadata": {
    "hide_input": false
   },
   "source": [
    "First we will create Bell states and research the correlations of these states. After that we will create partially entangled states and see how these correlations change. Then to simulate reality we will create Bell states with small errors.\n",
    "After we have a better understanding of quantum entanglement we will look at the time dynamics of entangled states. We will focus on what the time dynamics of the Heisenberg XXX model look like, and how the coupling parameter affects the system. Then we will look into the effect of applying an Ising XX gate on a state, and investigate the results we see. This is useful since we now can create arbitrary entangled states using these coupling interactions. This is useful in the field of quantum computing and communication."
   ]
  },
  {
   "cell_type": "markdown",
   "metadata": {},
   "source": [
    "## Description of the physical problem being simulated\n",
    "\n"
   ]
  },
  {
   "cell_type": "markdown",
   "metadata": {},
   "source": [
    "### Bell states\n",
    "\n",
    "To start off we will test the correlation between two particles in a Bell state. These can physically be produced by first applying an Hadamard gate, and then a CNOT gate. Mathematically, this means tensoring the Hadamard matrix with the $I(2)$ identity matrix, and then multiplying the CNOT matrix with the resulting matrix. The particles in a Bell state should be found to have a perfect correlation between them.\n",
    "\n",
    "\\begin{equation}\n",
    "|\\Phi_+\\rangle = \\frac{1}{\\sqrt{2}} (|0\\rangle {A} \\otimes |0\\rangle {B} + |1\\rangle {A} \\otimes |1\\rangle {B})\n",
    "\\end{equation}\n",
    "\n",
    "\\begin{equation}\n",
    "|\\Phi_-\\rangle = \\frac{1}{\\sqrt{2}} (|0\\rangle {A} \\otimes |0\\rangle {B} - |1\\rangle {A} \\otimes |1\\rangle {B})\n",
    "\\end{equation}\n",
    "\n",
    "\\begin{equation}\n",
    "|\\Psi_+\\rangle = \\frac{1}{\\sqrt{2}} (|0\\rangle {A} \\otimes |1\\rangle {B} + |1\\rangle {A} \\otimes |0\\rangle {B})\n",
    "\\end{equation}\n",
    "\n",
    "\\begin{equation}\n",
    "|\\Psi_-\\rangle = \\frac{1}{\\sqrt{2}} (|0\\rangle {A} \\otimes |1\\rangle {B} - |1\\rangle {A} \\otimes |0\\rangle {B})\n",
    "\\end{equation}\n",
    "\n",
    "\n",
    "Then, we simulate partially entangled states to test their correlation. This is done by shifting the superposition into a non 50/50 superposition, i.e. changing the state coefficients such that one of the states’ coefficients is higher than ½ when squared, which automatically means that the other coefficient is lower than ½ when squared. This is because of the normalization requirement in quantum mechanics. The change in coefficients should manifest itself in the probabilities of finding certain states. \n",
    "Next, in order to simulate real life errors we simulate Bell states, but with two extra terms. These extra terms represent the errors, and their coefficients represent the error rate. For example, a $|00\\rangle + |11\\rangle $ state will have the terms $|01\\rangle + |10\\rangle $ added, but with very low probability. The predicted correlation is then that in most cases a measurement will not result in an error, depending on the coefficients of the “error states”."
   ]
  },
  {
   "cell_type": "markdown",
   "metadata": {},
   "source": [
    "### Heisenberg XXX model\n",
    "Next, we test the correlation between two particles in the Heisenberg XXX model.\n",
    "The Heisenberg XXX model is a model of magnetism in materials. The spin is characterized by a three-dimensional vector on the unit sphere. The spins interact with their nearest neighbours, which gives rise to a Hamiltonian that can be described by equation (1).\n",
    "\n",
    "\\begin{equation}\\label{eq:}\n",
    "\\hat{H} = -1/2J\\sum_{j=1}^{N}\\left ( \\sigma_j^x\\sigma_{j+1}^x+ \\sigma_j^y\\sigma_{j+1}^y+\\sigma_j^z\\sigma_{j+1}^z+h\\sigma_j^z\\right)\n",
    "\\end{equation}\n",
    "\n",
    "\n",
    "We assume that the Planck constant is much smaller than our coupling parameter, and thus neglect the last term. We have also chosen to take $N = 1$, since we are only working with two spin-½ particles. The Hamiltonian will then be given by equation ().\n",
    "\n",
    "\\begin{equation}\n",
    "\\hat{H} = \n",
    "\\begin{pmatrix}\n",
    "h + J & 0 & 0 & 0 \\\\\n",
    "0 & h - J & 2J & 0 \\\\\n",
    "0  & 2J  & h - J & 0 \\\\\n",
    "0 & 0 & 0 & h + J\n",
    "\\end{pmatrix}\n",
    "\\end{equation}\n",
    "\n",
    "\n",
    "\n",
    "We will vary the coupling parameter and see how this changes the time dynamics in our system. We expect an oscillation will occur between the states $|01\\rangle$ and $|10\\rangle$, since these states will be entangled. We expect the frequency of these oscillations to increase for greater coupling parameters. The states $|00\\rangle$ and $|11\\rangle$ should remain unchanged, since they are eigenstates of the Hamiltonian (stationary states), and thus do not change over time.\n"
   ]
  },
  {
   "cell_type": "markdown",
   "metadata": {},
   "source": [
    "### The Ising (XX) coupling gate\n",
    "\n",
    "The Ising gate is a 2-qubit gate that has the following form. By applying this gate on a state it will create a new state with a certain phase that depends on the time we apply the gate for. In this way a time dependent state can be created. The unitary matrix representing the Ising (XX) gate is given by equation ().\n",
    "\n",
    "\\begin{equation}\n",
    "XX_\\phi= \n",
    "\\begin{pmatrix}\n",
    "\\cos(\\phi) & 0 & 0 & -i\\sin(\\phi) \\\\\n",
    "0 & \\cos(\\phi) & -i\\sin(\\phi) & 0 \\\\\n",
    "0  & -i\\sin(\\phi)  & \\cos(\\phi) & 0 \\\\\n",
    "-i\\sin(\\phi) & 0 & 0 & \\cos(\\phi))\n",
    "\\end{pmatrix}\n",
    "\\end{equation}\n",
    "\n",
    "\n",
    "Since $\\phi$ is dependent on the time this will create a state with different phis for different times. This can be seen in the matrix, because if one were to measure at $\\phi=0$, the gate essentially becomes the $I(4)$ identity matrix. If $\\phi=\\pi/2$, then it becomes a $\\sigma_x$ gate for both qubits, with an extra global phase shift. For $\\phi \\neq \\pi/2*k$, the matrix creates (partially) entangled states (with $k=1,2,3..$). The $\\phi=0$ and $\\phi=\\pi/2$ cases can very easily be assumed from the matrix tensor notation. This gate evolution is most likely a good estimator for the phase (and time) evolution of the two qubits after applying the Ising XX gate.\n"
   ]
  },
  {
   "cell_type": "markdown",
   "metadata": {},
   "source": [
    "## Aim and scope of the project\n",
    "\n",
    "\n",
    "In this project we will simulate different kinds of entangled states using QuTiP:\n",
    " \n",
    "\n",
    "What is the correlation between two particles in a Bell state?\n",
    "\n",
    "Can we create partially entangled states, and if yes, what is their correlation?\n",
    "\n",
    "Can we simulate measurement and random errors that occur when measuring Bell states?\n",
    "\n",
    "Can we create entangled states using quantum logic gates like the Hadamard and cNOT gate?\n",
    "\n",
    "What does the time evolution of an entangled state created through the Heisenberg XXX model look like?\n",
    "\n",
    "What does the time evolution of an entangled state created by applying an Ising gate look like?\n",
    "\n",
    "What is the influence of the coupling parameter J on the time evolution of the Heisenberg entangled state?\n",
    "\n"
   ]
  },
  {
   "cell_type": "markdown",
   "metadata": {},
   "source": [
    "## Techniques and approach\n",
    "\n",
    "Qutip documentation along with the examples from the lecture were really useful to create the simulations. For the first part `bell_state()` function is used to create the Bell states. \n",
    "For example `bell_state(00)` will give the Bell state in equation (1). \n",
    "\n",
    "For measuring the probabilities of finding a given particle in a certain state we used the following equation.\n",
    "\n",
    "$P(s) = Tr_p(|s\\rangle \\langle s|\\rho_{AB})$, where $p$ represents the particle number, $s$ the state that we want to find the probability of, and $\\rho_{AB}$ the density matrix of the system.\n",
    "\n",
    "To calculate the partial trace in QuTiP we used the `.ptrace()` operation.\n",
    "\n",
    "For measuring the probability of finding the two particle state in a certain total state we used the following equation.\n",
    "\n",
    "$|s_1s_2\\rangle = Tr(|s_1s_2><s_1s_2|\\rho_{AB})$, where $s_1$ and $s_2$ represent the state of the first and second particle, and $\\rho_{AB}$ the density matrix of the system.  \n",
    "\n",
    "We numerically solved TDSE for closed systems using the `mesolve()` routine from QuTiP. In order to observe the effects of the Hamiltonians we looked at the diagonal elements of the resulting density matrices, which translate into the probability of finding the main states. \n",
    " \n",
    "Using the interact function we simulate the effect of changing the coupling parameter and the effect of changing $\\phi$ in the Ising gate.\n"
   ]
  },
  {
   "cell_type": "markdown",
   "metadata": {},
   "source": [
    "##  Results\n"
   ]
  },
  {
   "cell_type": "code",
   "execution_count": 6,
   "metadata": {},
   "outputs": [],
   "source": [
    "#Some defining for easier coding\n",
    "down = fock(2,0)\n",
    "up = fock(2,1)\n",
    "state_00 = tensor(down, down)\n",
    "state_01 = tensor(down, up)\n",
    "state_10 = tensor(up, down)\n",
    "state_11 = tensor(up, up)\n",
    "\n",
    "#defining some of our constants\n",
    "N = 2\n",
    "w = 1 * 2 * np.pi \n",
    "gamma = 0.1 * w\n",
    "c_ops = Qobj([[0, 0, 0, 0], [0, 0, 0, 0], [0, 0, 0, 0], [0, 0, 0, 0]])\n",
    "t = np.linspace(0, 10, 201)\n",
    "psi00= Qobj([[1], [0], [0], [0]])\n",
    "psi01= Qobj([[0], [1], [0], [0]])"
   ]
  },
  {
   "cell_type": "markdown",
   "metadata": {},
   "source": [
    "### Different kinds of entangled states\n",
    "\n",
    "In this subsection the perfect correlation between two particles in a Bell state will be shown. \n",
    "This is done by measuring the Bell state, and then evaluating the probabilities of finding particles in certain states. The probabilities were found using the process mentioned in Techniques and approach.\n",
    "The graphs show the probability of finding the system in under-defined systems."
   ]
  },
  {
   "cell_type": "code",
   "execution_count": 7,
   "metadata": {},
   "outputs": [
    {
     "data": {
      "image/png": "[encoded data removed]",
      "text/plain": [
       "<Figure size 432x288 with 1 Axes>"
      ]
     },
     "metadata": {
      "needs_background": "light"
     },
     "output_type": "display_data"
    },
    {
     "data": {
      "image/png": "[encoded data removed]",
      "text/plain": [
       "<Figure size 432x288 with 1 Axes>"
      ]
     },
     "metadata": {
      "needs_background": "light"
     },
     "output_type": "display_data"
    },
    {
     "data": {
      "image/png": "[encoded data removed]",
      "text/plain": [
       "<Figure size 432x288 with 1 Axes>"
      ]
     },
     "metadata": {
      "needs_background": "light"
     },
     "output_type": "display_data"
    },
    {
     "data": {
      "image/png": "[encoded data removed]",
      "text/plain": [
       "<Figure size 432x288 with 1 Axes>"
      ]
     },
     "metadata": {
      "needs_background": "light"
     },
     "output_type": "display_data"
    }
   ],
   "source": [
    "#Measuring\n",
    "def get_probability(entanglement, answer, particle):\n",
    "    entanglement = entanglement.unit()\n",
    "    density_ab = entanglement * entanglement.dag()\n",
    "    A = answer * answer.dag()\n",
    "    B = A*density_ab.ptrace(particle)\n",
    "    return B.tr()\n",
    "\n",
    "def get_probability_both(entanglement, answer,answer2):\n",
    "    entanglement = entanglement.unit()\n",
    "    density_ab = entanglement * entanglement.dag()\n",
    "    A = answer * answer.dag() \n",
    "    B = answer2*answer2.dag()\n",
    "    A = tensor(A,B)\n",
    "    C = A*density_ab\n",
    "    return C.tr()\n",
    "    \n",
    "def show_on_graph(entaglement, title):\n",
    "    values = []\n",
    "    values.append(float(100 * get_probability_both(entaglement, down, down)))\n",
    "    values.append(float(100 * get_probability_both(entaglement, down, up)))\n",
    "    values.append(float(100 * get_probability_both(entaglement, up, down)))\n",
    "    values.append(float(100 * get_probability_both(entaglement, up, up)))\n",
    "    \n",
    "    objects = ('|00>', '|01>', '|10>', '|11>')\n",
    "    y_pos = np.arange(len(objects))\n",
    "    plt.bar(y_pos, values, align='center', alpha=0.5)\n",
    "    plt.xticks(y_pos, objects)\n",
    "    plt.ylabel('Probability %')\n",
    "    plt.title(title)\n",
    "\n",
    "    plt.show()\n",
    "    \n",
    "#Measuring the bell states\n",
    "entangled_00 = bell_state(state='00')\n",
    "show_on_graph(entangled_00, \"For Bell State 00\")\n",
    "\n",
    "entangled_01 = bell_state(state='01')\n",
    "show_on_graph(entangled_01, \"For Bell State 01\")\n",
    "\n",
    "entangled_10 = bell_state(state='10')\n",
    "show_on_graph(entangled_10, \"For Bell State 10\")\n",
    "\n",
    "entangled_11 = bell_state(state='11')\n",
    "show_on_graph(entangled_11, \"For Bell State 11\")"
   ]
  },
  {
   "cell_type": "markdown",
   "metadata": {},
   "source": [
    "As can be seen from the plots, there is perfect correlation between the two particles. It can be concluded from the fact that the probability to find both particles in the $|00\\rangle$ state for example is 50%. This probability would be 0.5*0.5=25% if the particles could be described independently.\n",
    "\n",
    "Entangled states with different coefficients can also be created."
   ]
  },
  {
   "cell_type": "code",
   "execution_count": 8,
   "metadata": {
    "scrolled": true
   },
   "outputs": [
    {
     "data": {
      "image/png": "[encoded data removed]",
      "text/plain": [
       "<Figure size 432x288 with 1 Axes>"
      ]
     },
     "metadata": {
      "needs_background": "light"
     },
     "output_type": "display_data"
    },
    {
     "data": {
      "image/png": "[encoded data removed]",
      "text/plain": [
       "<Figure size 432x288 with 1 Axes>"
      ]
     },
     "metadata": {
      "needs_background": "light"
     },
     "output_type": "display_data"
    }
   ],
   "source": [
    "#Creating entangled states\n",
    "def create_entangled_state(c0, c1, c2, c3):\n",
    "    return (c0 * state_00 + c1 * state_01 + c2 * state_10 + c3 * state_11).unit() \n",
    "    \n",
    "#Measuring partially entangled states\n",
    "partially_entangled_1 = create_entangled_state(np.sqrt(3)/2, 0, 0, 0.5)\n",
    "show_on_graph(partially_entangled_1, \"For a partially entangled state 1\")\n",
    "\n",
    "partially_entangled_2 = create_entangled_state(0, np.sqrt(3)/2, 0.5, 0)\n",
    "show_on_graph(partially_entangled_2, \"For a partially entangled state 2\")"
   ]
  },
  {
   "cell_type": "markdown",
   "metadata": {},
   "source": [
    "As can be seen from the plots, the probability to find a certain state is directly correlated with the square of the coefficient of the corresponding state.\n",
    "\n",
    "\n",
    "\n"
   ]
  },
  {
   "cell_type": "markdown",
   "metadata": {},
   "source": [
    "Entangled states with small random errors are also easily simulated."
   ]
  },
  {
   "cell_type": "code",
   "execution_count": 9,
   "metadata": {
    "scrolled": true
   },
   "outputs": [
    {
     "data": {
      "image/png": "[encoded data removed]",
      "text/plain": [
       "<Figure size 432x288 with 1 Axes>"
      ]
     },
     "metadata": {
      "needs_background": "light"
     },
     "output_type": "display_data"
    },
    {
     "data": {
      "image/png": "[encoded data removed]",
      "text/plain": [
       "<Figure size 432x288 with 1 Axes>"
      ]
     },
     "metadata": {
      "needs_background": "light"
     },
     "output_type": "display_data"
    }
   ],
   "source": [
    "#Measuring partially entangled states with random errors\n",
    "entangled_imperfect_1 = create_entangled_state(0.7, 0.1, 0.1, 0.7) \n",
    "show_on_graph(entangled_imperfect_1, \"For a entangled state with errors 1\")\n",
    "\n",
    "entangled_imperfect_2 = create_entangled_state(0.1, 0.8, 0.8, 0.1)\n",
    "show_on_graph(entangled_imperfect_2, \"For a entangled state with errors 2\")"
   ]
  },
  {
   "cell_type": "markdown",
   "metadata": {},
   "source": [
    "As before, the probabilities of the states being found when measured is correlated with the coefficient of the respective state.\n",
    "This seems to be a way to introduce errors to simulations of Bell states."
   ]
  },
  {
   "cell_type": "markdown",
   "metadata": {},
   "source": [
    "Now that we are more familiar with entangled states, we can look at some of the Hamiltonians that can create entanglements."
   ]
  },
  {
   "cell_type": "markdown",
   "metadata": {},
   "source": [
    "### Producing entangled states through the Heisenberg XXX model\n",
    "\n",
    "In this subsection we simulate the Heisenberg XXX model depending on time. This simulation will be done using “mesolve”. From our result we will only look into the diagonal terms as they represent the probability of finding the states. \n"
   ]
  },
  {
   "cell_type": "code",
   "execution_count": 10,
   "metadata": {
    "scrolled": true
   },
   "outputs": [
    {
     "data": {
      "image/png": "[encoded data removed]",
      "text/plain": [
       "<Figure size 432x288 with 1 Axes>"
      ]
     },
     "metadata": {
      "needs_background": "light"
     },
     "output_type": "display_data"
    }
   ],
   "source": [
    "def create_heisenberg_model(J):\n",
    "    return Qobj([[h + J, 0, 0, 0], [0, h - J, 2*J, 0], [0, 2*J, h - J, 0], [0, 0, 0, J - h]])\n",
    "    \n",
    "def plot_mesolve(H, psi, t, c_ops):\n",
    "    states = mesolve(H, psi, t, c_ops).states\n",
    "    plt.plot(t,np.real(expect(states, projection(4,0,0))), label=r'Re($\\rho_{00}$)')\n",
    "    plt.plot(t,np.real(expect(states, projection(4,1,1))), label=r'Re($\\rho_{11}$)')\n",
    "    plt.plot(t,np.real(expect(states, projection(4,2,2))), label=r'Re($\\rho_{22}$)')\n",
    "    plt.plot(t,np.real(expect(states, projection(4,3,3))), label=r'Re($\\rho_{33}$)')\n",
    "    plt.ylabel(r\"$\\rho_{ij}$\")\n",
    "    plt.xlabel(\"t (QuTiP 'seconds')\")\n",
    "    plt.legend()\n",
    "    plt.show()\n",
    "\n",
    "H = create_heisenberg_model(1)\n",
    "plot_mesolve(H, psi01, t, c_ops)"
   ]
  },
  {
   "cell_type": "markdown",
   "metadata": {},
   "source": [
    "There are four different lines in our graph that we get as a result, so the first one we are looking at is the first diagonal of the result matrix so $\\rho_{00}$ which is the $|00\\rangle$ state, the second line is the second diagonal which is $|01\\rangle$ state, the third line is the third diagonal and the fourth one is the fourth diagonal of our result matrix. As we can see while the $|00\\rangle$, and $|11\\rangle$ states are 0 through time, our $|01\\rangle$ and $|10\\rangle$ states oscillate. The main reason of that is the input state , if our input state were to be in $|00\\rangle$, we would not see any oscillations in any of the states, as $|00\\rangle$ , and $|11\\rangle$. These states are the eigenstates of the model, for that reason they don’t create oscillation. The graph shows that by applying the hamiltonian for different amounts of times gives us different results of states. "
   ]
  },
  {
   "cell_type": "code",
   "execution_count": 11,
   "metadata": {},
   "outputs": [
    {
     "data": {
      "application/vnd.jupyter.widget-view+json": {
       "model_id": "2e31c5461864474f9c46a32f1fdb817e",
       "version_major": 2,
       "version_minor": 0
      },
      "text/plain": [
       "interactive(children=(IntSlider(value=262, description='j', max=500), Output()), _dom_classes=('widget-interac…"
      ]
     },
     "metadata": {},
     "output_type": "display_data"
    }
   ],
   "source": [
    "def update_j(j=262):\n",
    "    H = create_heisenberg_model(j)\n",
    "    plot_mesolve(H, psi01, t, c_ops)\n",
    "    \n",
    "    \n",
    "interact(update_j, j=(0, 500));"
   ]
  },
  {
   "cell_type": "markdown",
   "metadata": {},
   "source": [
    "In the Heisenberg XXX model matrix we can also change our center coupling parameter $J$ to observe the effects of our end results. Normally center coupling parameters wouldn't be this big but just to show and see the effects clearly we will use from 0 to 500. And if you experiment with the graph not only the frequencies change, there are also some interesting behaviours visible such as an oscillation creating an oscillation (eg. $J = 262$), which is a quite interesting behaviour which might be caused because the oscillation is so fast that our simulation is not fast enough to detect it clearly. The relationship between the coupling parameter $J$ and the frequency of the oscillation is logical, because at very small $J$, the coupling is very weak, and thus the interaction between the two particles is almost nonexistent, which means that entanglement is not possible. On the other hand, when $J$ increases to infinity, the coupling will be tremendously strong and entanglement will be very likely. Since the maximally entangled states occur only when the two nonzero diagonal elements are both 0.5, it can be seen from the plot that as the frequency increases, the frequency of maximally entangled states occuring also increases."
   ]
  },
  {
   "cell_type": "markdown",
   "metadata": {},
   "source": [
    "### Producing entangled states with the Ising gate\n",
    "\n",
    "In this subsection we will simulate the creation of entangled states through use of the Ising gate, and then evaluate its time evolution. This is done by multiplying the Ising gate matrix with an input state, e.g. $|00\\rangle$, and then varying $\\phi$ to generate the time dependency. Subsequently, the probabilities of finding two certain qubit states are plotted."
   ]
  },
  {
   "cell_type": "code",
   "execution_count": 12,
   "metadata": {},
   "outputs": [
    {
     "data": {
      "application/vnd.jupyter.widget-view+json": {
       "model_id": "103a63b2cab742ed8b93be92a1e7df07",
       "version_major": 2,
       "version_minor": 0
      },
      "text/plain": [
       "interactive(children=(FloatSlider(value=0.0, description='angle', max=6.283185307179586), Output()), _dom_clas…"
      ]
     },
     "metadata": {},
     "output_type": "display_data"
    }
   ],
   "source": [
    "def create_icing_matrix(angle):\n",
    "    return Qobj([[np.cos(angle), 0, 0, -1j * np.sin(angle)], [0, np.cos(angle), -1j * np.sin(angle), 0], [0, -1j * np.sin(angle), np.cos(angle), 0], [-1j * np.sin(angle), 0, 0, np.cos(angle)]])\n",
    "\n",
    "def generate_entaglement_data_from_matrix(matrix):\n",
    "    return create_entangled_state((matrix * projection(4,0,0)).tr(), (matrix * projection(4,1,1)).tr(), (matrix * projection(4,2,2)).tr(), (matrix * projection(4,3,3)).tr())\n",
    "\n",
    "def update_phi(angle=0):\n",
    "    H = 0.5 * w * create_icing_matrix(angle)\n",
    "    A = (H * psi00).unit()\n",
    "    result = A * A.dag()\n",
    "    just_to_show = generate_entaglement_data_from_matrix(result)\n",
    "    show_on_graph(just_to_show, \"Probibility of states with diffrent phi's\")\n",
    "    \n",
    "interact(update_phi, angle=(0,2 * np.pi));"
   ]
  },
  {
   "cell_type": "markdown",
   "metadata": {},
   "source": [
    "As can be seen from the plot, as $\\phi$ changes, the probabilities shift between the input state and the input state with a double bit flip. At $\\phi=0$, the probability of finding the input state is 100%, and at $\\phi=\\pi/2$ the probability of finding both qubits flipped is 100%. If one sets $\\phi$ to $\\pi/4$ or $3\\pi/4$ however, a maximally entangled state is created between the input state and a double bit flip of the input state. For example, taking $|01\\rangle$ as the input state, one finds $|01\\rangle$ at $\\phi=0$, $|10\\rangle$ at $\\phi=\\pi/2$, and a maximal superposition of $|01\\rangle$ and $|10\\rangle$ at $\\phi=\\pi/4$ and $\\phi=3\\pi/4$.\n",
    "\n",
    "The results show that an oscillation occurs as $\\phi$ changes. This oscillation occurs between the input state and a double bit flip of the input state, with maximally entangled states occurring in between. This shows a perfect correlation between the two qubits, because the qubits are always in the same or opposite state, depending on the input state. If we take the $|00\\rangle$ as an example again, when applying the Ising gate, the qubits are in the same state. Afterwards, as time passes, both qubits will be either entangled or bit flipped. "
   ]
  },
  {
   "cell_type": "markdown",
   "metadata": {},
   "source": [
    "## Summary and Outlook\n",
    "\n",
    "In summary in this project we simulated entangled states, and we created entanglements by using Ising matrix with different phi’s and Heisenberg model XXX changing in time with different coupling parameters. \n",
    "Now we know with which kind of hamiltonians the entanglement is created. In time dependent Heisenberg model XXX there is an oscillation between two states while the coupling parameters affect the frequency of these oscillations. Same with the Ising matrix, the phi component that is dependent on the time also creates an oscillation between two states.\n",
    "\n",
    "As additions we would love to get a better understanding how coupling parameter effects the time dependent Heisenberg model XXX, because as we looked when coupling parameter was high there were some interesting figures. If there was more time available, we would have simulated the time dependent Heisenberg model XXX with different collapse operators, which would create decoherences. We could also simulate more complex models, such as the Heisenberg XXZ model. With our results one could find the wanted phi to create the desired entanglement with an Ising gate. One could also find the time needed to apply the Heisenberg model XXX with a specific coupling parameter to get the desired entanglement. This is useful since we now can create arbitrary entangled states using these coupling interactions. This is useful in the field of quantum computing."
   ]
  },
  {
   "cell_type": "code",
   "execution_count": null,
   "metadata": {},
   "outputs": [],
   "source": []
  }
 ],
 "metadata": {
  "jupytext": {
   "cell_metadata_json": true,
   "formats": "ipynb,md"
  },
  "kernelspec": {
   "display_name": "Python 3",
   "language": "python",
   "name": "python3"
  },
  "language_info": {
   "codemirror_mode": {
    "name": "ipython",
    "version": 3
   },
   "file_extension": ".py",
   "mimetype": "text/x-python",
   "name": "python",
   "nbconvert_exporter": "python",
   "pygments_lexer": "ipython3",
   "version": "3.6.6"
  },
  "latex_envs": {
   "LaTeX_envs_menu_present": true,
   "autoclose": false,
   "autocomplete": true,
   "bibliofile": "biblio.bib",
   "cite_by": "apalike",
   "current_citInitial": 1,
   "eqLabelWithNumbers": true,
   "eqNumInitial": 1,
   "hotkeys": {
    "equation": "Ctrl-E",
    "itemize": "Ctrl-I"
   },
   "labels_anchors": false,
   "latex_user_defs": false,
   "report_style_numbering": false,
   "user_envs_cfg": false
  },
  "toc": {
   "base_numbering": 1,
   "nav_menu": {},
   "number_sections": false,
   "sideBar": true,
   "skip_h1_title": false,
   "title_cell": "Table of Contents",
   "title_sidebar": "Contents",
   "toc_cell": false,
   "toc_position": {},
   "toc_section_display": true,
   "toc_window_display": false
  }
 },
 "nbformat": 4,
 "nbformat_minor": 2
}
