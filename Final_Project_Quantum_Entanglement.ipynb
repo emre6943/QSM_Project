{
 "cells": [
  {
   "cell_type": "markdown",
   "metadata": {
    "hide_input": false
   },
   "source": [
    "# Final Project TN3155: Your title here\n",
    "\n",
    "## Introduction\n",
    "\n",
    "In this project we will research entangled states. First we will create Bell states and research the correlations of these states. After that we will create partially entangled states and see how these correlations change. Then to simulate reality we will create Bell states with small errors.\n",
    "After we have a better understanding of quantum entanglement we will look at the time dynamics of entangled states. We will focus on what the time dynamics of the Heisenberg XXX model look like, and how the coupling parameter affects the system. Then we will look into the effect of applying an Ising XX gate on a state, and investigate the results we see. This is useful since we now can create arbitrary entangled states using these coupling interactions. This is useful in the field of quantum computing and communication.\n"
   ]
  },
  {
   "cell_type": "markdown",
   "metadata": {},
   "source": [
    "## Description of the physical problem being simulated\n",
    "\n"
   ]
  },
  {
   "cell_type": "markdown",
   "metadata": {},
   "source": [
    "### Bell states\n",
    "\n",
    "To start off we will test the correlation between two particles in a Bell state. These can physically be produced by first applying an Hadamard gate, and then a CNOT gate. Mathematically, this means tensoring the Hadamard matrix with the $I(2)$ identity matrix, and then multiplying the CNOT matrix with the resulting matrix. The particles in a Bell state should be found to have a perfect correlation between them.\n",
    "\n",
    "\\begin{equation*}\n",
    "|\\Phi+\\rangle = \\frac{1}{\\sqrt{2}} (|0\\rangle {A} \\otimes |0\\rangle {B} + |1\\rangle {A} \\otimes |1\\rangle {B})\n",
    "\\end{equation}\n",
    "\n",
    "\n",
    "\\begin{equation*}\n",
    "|\\Phi+\\rangle = \\frac{1}{\\sqrt{2}} (|0\\rangle {A} \\otimes |0\\rangle {B} - |1\\rangle {A} \\otimes |1\\rangle {B})\n",
    "\\end{equation}\n",
    "\n",
    "\\begin{equation*}\n",
    "|\\Psi+\\rangle = \\frac{1}{\\sqrt{2}} (|0\\rangle {A} \\otimes |1\\rangle {B} + |1\\rangle {A} \\otimes |0\\rangle {B})\n",
    "\\end{equation*}\n",
    "\n",
    "\\begin{equation*}\n",
    "|\\Psi-\\rangle = \\frac{1}{\\sqrt{2}} (|0\\rangle {A} \\otimes |1\\rangle {B} - |1\\rangle {A} \\otimes |0\\rangle {B})\n",
    "\\end{equation*}\n",
    "\n",
    "\n",
    "Then, we simulate partially entangled states to test their correlation. This is done by shifting the superposition into a non 50/50 superposition, i.e. changing the state coefficients such that one of the states’ coefficients is higher than ½ when squared, which automatically means that the other coefficient is lower than ½ when squared. This is because of the normalization requirement in quantum mechanics. The change in coefficients should manifest itself in the probabilities of finding certain states. \n",
    "Next, in order to simulate real life errors we simulate Bell states, but with two extra terms. These extra terms represent the errors, and their coefficients represent the error rate. For example, a $|0\\rangle + |11\\rangle $ state will have the terms |01>+|10> added, but with very low probability. The predicted correlation is then that in most cases a measurement will not result in an error, depending on the coefficients of the “error states”."
   ]
  },
  {
   "cell_type": "markdown",
   "metadata": {},
   "source": [
    "### Heisenberg XXX model\n",
    "Next, we test the correlation between two particles in the Heisenberg XXX model.\n",
    "The Heisenberg XXX model is a model of magnetism in materials. The spin is characterized by a three-dimensional vector on the unit sphere. The spins interact with their nearest neighbours, which gives rise to a Hamiltonian that can be described by equation (1).\n",
    "\n",
    "\\begin{equation}\\label{eq:}\n",
    "\\hat{H} = -1/2J\\sum_{j=1}^{N}\\left ( \\sigma_j^x\\sigma_{j+1}^x+ \\sigma_j^y\\sigma_{j+1}^y+\\sigma_j^z\\sigma_{j+1}^z+h\\sigma_j^z\\right)\n",
    "\\end{equation}\n",
    "\n",
    "\n",
    "We assume that the Planck constant is much smaller than our coupling parameter, and thus neglect the last term. We have also chosen to take $N = 1$, since we are only working with two spin-½ particles. \n",
    "\n",
    "\n",
    "We will vary the coupling parameter and see how this changes the time dynamics in our system. We expect an oscillation will occur between the states $|01\\rangle$ and $|10\\rangle$, since these states will be entangled. We expect the frequency of these oscillations to increase for greater coupling parameters. The states $|00\\rangle$ and $|11\\rangle$ should remain unchanged, since they are eigenstates of the Hamiltonian (stationary states), and thus do not change over time.\n"
   ]
  },
  {
   "cell_type": "markdown",
   "metadata": {},
   "source": [
    "### The Ising (XX) coupling gate\n",
    "\n",
    "The Ising gate is a 2-qubit gate that has the following form. By applying this gate on a state it will create a new state with a certain phase that depends on the time we apply the gate for. In this way a time dependent state can be created. The unitary matrix representing the Ising (XX) gate is given below.\n",
    "\n",
    "\\begin{equation*}\n",
    "XX_\\phi= \n",
    "\\begin{pmatrix}\n",
    "\\cos(\\phi) & 0 & 0 & -i\\sin(\\phi) \\\\\n",
    "0 & \\cos(\\phi) & -i\\sin(\\phi) & 0 \\\\\n",
    "0  & -i\\sin(\\phi)  & \\cos(\\phi) & 0 \\\\\n",
    "-i\\sin(\\phi) & 0 & 0 & \\cos(\\phi))\n",
    "\\end{pmatrix}\n",
    "\\end{equation*}\n",
    "\n",
    "\n",
    "Since $\\phi$ is dependent on the time this will create a state with different phis for different times. This can be seen in the matrix, because if one were to measure at $\\phi=0$, the gate essentially becomes the $I(4)$ identity matrix. If $\\phi=\\pi/2$, then it becomes a $\\sigma_x$ gate for both qubits, with an extra global phase shift. For $\\phi \\neq \\pi/2*k$, the matrix creates (partially) entangled states (with $k=1,2,3..$). The $\\phi=0$ and $\\phi=\\pi/2$ cases can very easily be assumed from the matrix tensor notation. This gate evolution is most likely a good estimator for the phase (and time) evolution of the two qubits after applying the Ising XX gate.\n"
   ]
  },
  {
   "cell_type": "markdown",
   "metadata": {},
   "source": [
    "## Aim and scope of the project\n",
    "\n",
    "\n",
    "In this project we will simulate different kinds of entangled states using QuTiP:\n",
    " \n",
    "\n",
    "What is the correlation between two particles in a Bell state?\n",
    "\n",
    "Can we create partially entangled states, and if yes, what is their correlation?\n",
    "\n",
    "Can we simulate measurement and random errors that occur when measuring Bell states?\n",
    "\n",
    "Can we create entangled states using quantum logic gates like the Hadamard and cNOT gate?\n",
    "\n",
    "What does the time evolution of an entangled state created through the Heisenberg XXX model look like?\n",
    "\n",
    "What does the time evolution of an entangled state created by applying an Ising gate look like?\n",
    "\n",
    "What is the influence of the coupling parameter J on the time evolution of the Heisenberg entangled state?\n",
    "\n"
   ]
  },
  {
   "cell_type": "markdown",
   "metadata": {},
   "source": [
    "## Techniques and approach\n",
    "\n",
    "Qutip documentation along with the examples from the lecture were really useful to create the simulations. For the first part ‘bell_state()’ and just mathematically defined “(0.5 * state_00 +  0.5 * state_11) .unit()“ entangled states were used which is essentially the way “bell_state()” works. \n",
    "For measuring the probabilities of finding the entangled states following calculations were used: $P(s) = Tr_p(|s\\rangle \\langle s|\\rho_{AB})$, where p is the particle number 0 for first 1 for second, s for the state that we want to find the probability, and rhoAB is the density matrix of the system. For example, measures the probability of finding the first particle (rhoAB.ptrace(0)) in |0> state. but this is only for 1 particle so for both of the particles we don't take the partial trace and change the |s> for 2 particles for example Tr(|00><00| * rhoAB).\n",
    "We numerically solved TDSE for closed systems using the “mesolve()” routine from QuTiP. In order to observe the effects of the hamiltonians we looked at the diagonal parts of the result matrix which translate into the probability of finding the main states. \n",
    " \n",
    "Using the interact function we simulate the effect of changing the coupling parameter and the effect of changing $\\phi$ in the Ising gate.\n"
   ]
  },
  {
   "cell_type": "markdown",
   "metadata": {},
   "source": [
    "##  Results\n"
   ]
  },
  {
   "cell_type": "markdown",
   "metadata": {},
   "source": [
    "### Different kinds of entangled states\n",
    "\n",
    "In this subsection the perfect correlation between two particles in a Bell state will be shown. \n",
    "This is done by measuring the Bell state, and then evaluating the probabilities of finding particles in certain states. The probabilities were found using the process mentioned in Techniques and approach.\n",
    "The graphs show the probability of finding the system in under-defined systems.\n",
    "\n",
    "Entangled states with different coefficients can also be created.\n",
    "\n",
    "Entangled states with small random errors are also easily simulated.\n",
    "\n",
    "Now that we are more familiar with entangled states, we can look at some of the hamiltonians that can create entanglements."
   ]
  },
  {
   "cell_type": "markdown",
   "metadata": {},
   "source": [
    "### Producing entangled states with the Ising gate\n",
    "\n",
    "In this subsection we will simulate the creation of entangled states through use of the Ising gate, and then evaluate its time evolution. This is done by multiplying the Ising gate matrix with an input state, e.g. $|00\\rangle$, and then varying $\\phi$ to generate the time dependency. Subsequently, the probabilities of finding two certain qubit states are plotted.\n",
    "\n",
    "As can be seen from the plots, as $\\phi$ changes, the probabilities shift between the input state and the input state with a double bit flip. At $\\phi=0$, the probability of finding the input state is 100%, and at $\\phi=\\pi/2$ the probability of finding both qubits flipped is 100%. If one sets $\\phi$ to $\\pi/4$ or $3\\pi/4$ however, a maximally entangled state is created between the input state and a double bit flip of the input state. For example, taking $|01\\rangle$ as the input state, one finds $|01\\rangle$ at $\\phi=0$, $|10\\rangle$ at $\\phi=\\pi/2$, and a maximal superposition of $|01\\rangle$ and $|10\\rangle$ at $\\phi=\\pi/4$ and $\\phi=3\\pi/4$.\n",
    "\n",
    "The results show that an oscillation occurs as $\\phi$ changes. This oscillation occurs between the input state and a double bit flip of the input state, with maximally entangled states occurring in between. This shows a perfect correlation between the two qubits, because the qubits are always in the same or opposite state, depending on the input state. If we take the $|00\\rangle$ as an example again, when applying the Ising gate, the qubits are in the same state. Afterwards, as time passes, both qubits will be either entangled or bit flipped. "
   ]
  },
  {
   "cell_type": "markdown",
   "metadata": {},
   "source": [
    "### Producing entangled states through the Heisenberg XXX model\n",
    "\n",
    "In this subsection we simulate the Heisenberg XXX model depending on time. This simulation will be done using “mesolve”. From our result we will only look into the diagonal terms as they represent the probability of finding the states. \n",
    "\n",
    "There are four different lines in our graph that we get as a result, so the first one we are looking at is the first diagonal of the result matrix so $\\rho_{00}$ which is the $|00\\rangle$ state, the second line is the second diagonal which is $|01\\rangle$ state, the third line is the third diagonal and the fourth one is the fourth diagonal of our result matrix. As we can see while the $|00\\rangle$, and $|11\\rangle$ states are 0 through time, our $|01\\rangle$ and $|10\\rangle$ states oscillate. The main reason of that is the input state , if our input state were to be in $|00\\rangle$, we would not see any oscillations in any of the states, as $|00\\rangle$ , and $|11\\rangle$. These states are the eigenstates of the model, for that reason they don’t create oscillation. The graph shows that by applying the Hamiltonian for different amounts of times gives us different results of states. \n",
    "\n",
    "In the Heisenberg XXX model matrix we can also change our center coupling parameter $J$ to observe the effects of our end results. Normally center coupling parameters wouldn't be this big but just to show and see the effects clearly we will use from 0 to 500. And if you experiment with the graph not only the frequencies change, there are also some interesting behaviours visible such as an oscillation creating an oscillation (eg. $J = 282$), which is a quite interesting behaviour which might be caused because the oscillation is so fast that our simulation is not fast enough to detect it clearly."
   ]
  },
  {
   "cell_type": "markdown",
   "metadata": {},
   "source": [
    "## Summary and Outlook\n",
    "\n",
    "In summary in this project we simulated entangled states, and we created entanglements by using Ising matrix with different phi’s and Heisenberg model XXX changing in time with different coupling parameters. \n",
    "Now we know with which kind of hamiltonians the entanglement is created. In time dependent Heisenberg model XXX there is an oscillation between two states while the coupling parameters affect the frequency of these oscillations. Same with the Ising matrix, the phi component that is dependent on the time also creates an oscillation between two states.\n",
    "\n",
    "As additions we would love to get a better understanding how coupling parameter effects the time dependent Heisenberg model XXX, because as we looked when coupling parameter was high there were some interesting figures. If there was more time available, we would have simulated the time dependent Heisenberg model XXX with different collapse operators, which would create decoherences. We could also simulate more complex models, such as the Heisenberg XXZ model. With our results one could find the wanted phi to create the desired entanglement with an Ising gate. One could also find the time needed to apply the Heisenberg model XXX with a specific coupling parameter to get the desired entanglement. This is useful since we now can create arbitrary entangled states using these coupling interactions. This is useful in the field of quantum computing."
   ]
  },
  {
   "cell_type": "code",
   "execution_count": null,
   "metadata": {},
   "outputs": [],
   "source": []
  }
 ],
 "metadata": {
  "jupytext": {
   "cell_metadata_json": true,
   "formats": "ipynb,md"
  },
  "kernelspec": {
   "display_name": "Python 3",
   "language": "python",
   "name": "python3"
  },
  "language_info": {
   "codemirror_mode": {
    "name": "ipython",
    "version": 3
   },
   "file_extension": ".py",
   "mimetype": "text/x-python",
   "name": "python",
   "nbconvert_exporter": "python",
   "pygments_lexer": "ipython3",
   "version": "3.6.6"
  },
  "latex_envs": {
   "LaTeX_envs_menu_present": true,
   "autoclose": false,
   "autocomplete": true,
   "bibliofile": "biblio.bib",
   "cite_by": "apalike",
   "current_citInitial": 1,
   "eqLabelWithNumbers": true,
   "eqNumInitial": 1,
   "hotkeys": {
    "equation": "Ctrl-E",
    "itemize": "Ctrl-I"
   },
   "labels_anchors": false,
   "latex_user_defs": false,
   "report_style_numbering": false,
   "user_envs_cfg": false
  },
  "toc": {
   "base_numbering": 1,
   "nav_menu": {},
   "number_sections": false,
   "sideBar": true,
   "skip_h1_title": false,
   "title_cell": "Table of Contents",
   "title_sidebar": "Contents",
   "toc_cell": false,
   "toc_position": {},
   "toc_section_display": true,
   "toc_window_display": false
  }
 },
 "nbformat": 4,
 "nbformat_minor": 2
}
