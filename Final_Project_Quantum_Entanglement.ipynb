{
 "cells": [
  {
   "cell_type": "markdown",
   "metadata": {
    "hide_input": false
   },
   "source": [
    "# Final Project TN3155: Your title here\n",
    "\n",
    "## Introduction\n",
    "\n",
    "In this project we will research entangled states. First we will create Bell states and research the correlations of these states. After that we will create partially entangled states and see how these correlations change. Then to simulate reality we will create Bell states with small errors.\n",
    "After we have a better understanding of quantum entanglement we will look at the time dynamics of entangled states. We will focus on what the time dynamics of the Heisenberg XXX model look like, and how the coupling parameter affects the system. Then we will look into the effect of applying an Ising XX gate on a state, and investigate the results we see. This is useful since we now can create arbitrary entangled states using these coupling interactions. This is useful in the field of quantum computing and communication.\n"
   ]
  },
  {
   "cell_type": "markdown",
   "metadata": {},
   "source": [
    "## Description of the physical problem being simulated\n",
    "\n",
    "3-4 paragraphs describing the physical problem that you are simulating with your code. What is the starting point? Do you make some approximations to the Hamiltonian before simulating it? Make some predictions of what you might expect based on your physical intuition (ie. without any derivations / mathematics / code). Try to write this bit in particular from the perspective of what you knew *before* you started the project. \n",
    "\n",
    "Include figures: screenshots from papers, textbooks, websites, but making sure to cite your source. \n",
    "\n"
   ]
  },
  {
   "cell_type": "markdown",
   "metadata": {},
   "source": [
    "## Aim and scope of the project\n",
    "\n",
    "A short, concise list of the questions you will answer using the simulations you will perform.\n"
   ]
  },
  {
   "cell_type": "markdown",
   "metadata": {},
   "source": [
    "## Techniques and approach\n",
    "\n",
    "Outline, in subsections if needed (but one section is fine if you don't!), important details of how you implemented the code. \n",
    "\n",
    "You do not have to document in detail each simulation you performed. And also not even the details of what you did for each of the plots in the results section, since the code you will submit will do this for you.\n",
    "\n",
    "Instead: think about the important concepts / techniques you used and illustrate how each of these works with a simple illustration of how the code works, what it does, and how to use it. \n"
   ]
  },
  {
   "cell_type": "markdown",
   "metadata": {},
   "source": [
    "##  Results\n",
    "\n",
    "Pick maximum 3 \"main results\" from what you have done. One result is also fine if your project was focussed on one thing. Formulate them in the form of a \"message\". What is the \"message\" you want your reader to \"take home\"? \n",
    "\n",
    "For each of these \"message\" make a subsection. Write code that produces figures that illustrate your message as clearly as possible. Each subsection should includee: \n",
    "\n",
    "* A paragraph describing what the research question the code is trying to answer and, briefly, how it does it\n",
    "* The code that produces a figure. \n",
    "  * If the code is very long, you can \"hide\" the cell using the \"toggle cell input display\" notebook extension.\n",
    "  * Or you can write your code in a function, like make_results_1(), separate .py  file and then  call your  function in the code sell\n",
    "* A paragraph describing what the figure shows (\"what you see\")\n",
    "* A paragraph explaining how to interpret what the figure shows\n",
    "\n",
    "Each subsection can have multiple plots if you need more than one plot to explain your point. However, I would try to avoid more than 3 plots per \"subsection\". In getting your message across effectively, \"less is more\". It is better to have one very effective and clear plot, than a sequence of many plots that will confuse your reader. \n",
    "\n"
   ]
  },
  {
   "cell_type": "markdown",
   "metadata": {},
   "source": [
    "## Summary and Outlook\n",
    "\n",
    "In a short paragraph or two, summarize again your \"take home messages\". \n",
    "\n",
    "In an additional paragraph, describe what you think would be the next steps: where can we go from here? What would you do if you had more time? Where can one apply the things you have learned? "
   ]
  }
 ],
 "metadata": {
  "jupytext": {
   "cell_metadata_json": true,
   "formats": "ipynb,md"
  },
  "kernelspec": {
   "display_name": "Python 3",
   "language": "python",
   "name": "python3"
  },
  "language_info": {
   "codemirror_mode": {
    "name": "ipython",
    "version": 3
   },
   "file_extension": ".py",
   "mimetype": "text/x-python",
   "name": "python",
   "nbconvert_exporter": "python",
   "pygments_lexer": "ipython3",
   "version": "3.6.6"
  },
  "latex_envs": {
   "LaTeX_envs_menu_present": true,
   "autoclose": false,
   "autocomplete": true,
   "bibliofile": "biblio.bib",
   "cite_by": "apalike",
   "current_citInitial": 1,
   "eqLabelWithNumbers": true,
   "eqNumInitial": 1,
   "hotkeys": {
    "equation": "Ctrl-E",
    "itemize": "Ctrl-I"
   },
   "labels_anchors": false,
   "latex_user_defs": false,
   "report_style_numbering": false,
   "user_envs_cfg": false
  },
  "toc": {
   "base_numbering": 1,
   "nav_menu": {},
   "number_sections": false,
   "sideBar": true,
   "skip_h1_title": false,
   "title_cell": "Table of Contents",
   "title_sidebar": "Contents",
   "toc_cell": false,
   "toc_position": {},
   "toc_section_display": true,
   "toc_window_display": false
  }
 },
 "nbformat": 4,
 "nbformat_minor": 2
}
